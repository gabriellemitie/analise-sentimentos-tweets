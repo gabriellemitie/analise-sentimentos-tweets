{
 "cells": [
  {
   "cell_type": "markdown",
   "metadata": {},
   "source": [
    "### Projeto de análise sentimentos de tweets\n",
    "\n",
    "\n",
    "- Uso de transformers \n",
    "- Tratamento de dados  \n",
    "- Naive Bayes  \n",
    "- Linear SVC  \n",
    "\n",
    "\n",
    "por Gabrielle Tenguan"
   ]
  },
  {
   "cell_type": "code",
   "execution_count": 138,
   "metadata": {},
   "outputs": [],
   "source": [
    "# imports \n",
    "import pandas as pd \n",
    "import numpy as np\n",
    "\n",
    "import transformers\n",
    "import spacy \n",
    "import nltk \n",
    "import re\n",
    "import seaborn as sns # graficos / matriz de confusao \n",
    "from tqdm import tqdm # import para visualização progress bar\n",
    "tqdm.pandas()\n"
   ]
  },
  {
   "cell_type": "code",
   "execution_count": 139,
   "metadata": {},
   "outputs": [
    {
     "name": "stderr",
     "output_type": "stream",
     "text": [
      "[nltk_data] Downloading package stopwords to\n",
      "[nltk_data]     /Users/gabrielletenguan/nltk_data...\n",
      "[nltk_data]   Package stopwords is already up-to-date!\n"
     ]
    },
    {
     "data": {
      "text/plain": [
       "True"
      ]
     },
     "execution_count": 139,
     "metadata": {},
     "output_type": "execute_result"
    }
   ],
   "source": [
    "from nltk.corpus import stopwords\n",
    "# baixando pacote de linguagem em ingles, lg = large \n",
    "nlp = spacy.load('en_core_web_lg')\n",
    "nltk.download('stopwords') # baixando stopwords para fazer o tratamento depois \n"
   ]
  },
  {
   "cell_type": "code",
   "execution_count": 140,
   "metadata": {},
   "outputs": [
    {
     "data": {
      "text/html": [
       "<div>\n",
       "<style scoped>\n",
       "    .dataframe tbody tr th:only-of-type {\n",
       "        vertical-align: middle;\n",
       "    }\n",
       "\n",
       "    .dataframe tbody tr th {\n",
       "        vertical-align: top;\n",
       "    }\n",
       "\n",
       "    .dataframe thead th {\n",
       "        text-align: right;\n",
       "    }\n",
       "</style>\n",
       "<table border=\"1\" class=\"dataframe\">\n",
       "  <thead>\n",
       "    <tr style=\"text-align: right;\">\n",
       "      <th></th>\n",
       "      <th>textID</th>\n",
       "      <th>text</th>\n",
       "      <th>selected_text</th>\n",
       "      <th>sentiment</th>\n",
       "    </tr>\n",
       "  </thead>\n",
       "  <tbody>\n",
       "    <tr>\n",
       "      <th>0</th>\n",
       "      <td>cb774db0d1</td>\n",
       "      <td>I`d have responded, if I were going</td>\n",
       "      <td>I`d have responded, if I were going</td>\n",
       "      <td>neutral</td>\n",
       "    </tr>\n",
       "    <tr>\n",
       "      <th>1</th>\n",
       "      <td>549e992a42</td>\n",
       "      <td>Sooo SAD I will miss you here in San Diego!!!</td>\n",
       "      <td>Sooo SAD</td>\n",
       "      <td>negative</td>\n",
       "    </tr>\n",
       "    <tr>\n",
       "      <th>2</th>\n",
       "      <td>088c60f138</td>\n",
       "      <td>my boss is bullying me...</td>\n",
       "      <td>bullying me</td>\n",
       "      <td>negative</td>\n",
       "    </tr>\n",
       "    <tr>\n",
       "      <th>3</th>\n",
       "      <td>9642c003ef</td>\n",
       "      <td>what interview! leave me alone</td>\n",
       "      <td>leave me alone</td>\n",
       "      <td>negative</td>\n",
       "    </tr>\n",
       "    <tr>\n",
       "      <th>4</th>\n",
       "      <td>358bd9e861</td>\n",
       "      <td>Sons of ****, why couldn`t they put them on t...</td>\n",
       "      <td>Sons of ****,</td>\n",
       "      <td>negative</td>\n",
       "    </tr>\n",
       "  </tbody>\n",
       "</table>\n",
       "</div>"
      ],
      "text/plain": [
       "       textID                                               text  \\\n",
       "0  cb774db0d1                I`d have responded, if I were going   \n",
       "1  549e992a42      Sooo SAD I will miss you here in San Diego!!!   \n",
       "2  088c60f138                          my boss is bullying me...   \n",
       "3  9642c003ef                     what interview! leave me alone   \n",
       "4  358bd9e861   Sons of ****, why couldn`t they put them on t...   \n",
       "\n",
       "                         selected_text sentiment  \n",
       "0  I`d have responded, if I were going   neutral  \n",
       "1                             Sooo SAD  negative  \n",
       "2                          bullying me  negative  \n",
       "3                       leave me alone  negative  \n",
       "4                        Sons of ****,  negative  "
      ]
     },
     "execution_count": 140,
     "metadata": {},
     "output_type": "execute_result"
    }
   ],
   "source": [
    "# carregando dataset \n",
    "df = pd.read_csv('Tweets.csv')\n",
    "df.head()"
   ]
  },
  {
   "cell_type": "code",
   "execution_count": 141,
   "metadata": {},
   "outputs": [
    {
     "data": {
      "text/plain": [
       "textID           0\n",
       "text             1\n",
       "selected_text    1\n",
       "sentiment        0\n",
       "dtype: int64"
      ]
     },
     "execution_count": 141,
     "metadata": {},
     "output_type": "execute_result"
    }
   ],
   "source": [
    "# verificando por valores nulos \n",
    "df.isnull().sum()"
   ]
  },
  {
   "cell_type": "code",
   "execution_count": 142,
   "metadata": {},
   "outputs": [
    {
     "data": {
      "text/plain": [
       "sentiment\n",
       "neutral     11118\n",
       "positive     8582\n",
       "negative     7781\n",
       "Name: count, dtype: int64"
      ]
     },
     "execution_count": 142,
     "metadata": {},
     "output_type": "execute_result"
    }
   ],
   "source": [
    "# contagem de valores de sentimentos -> neg, neu, pos\n",
    "df['sentiment'].value_counts()"
   ]
  },
  {
   "cell_type": "code",
   "execution_count": 143,
   "metadata": {},
   "outputs": [
    {
     "data": {
      "text/plain": [
       "(27481, 4)"
      ]
     },
     "execution_count": 143,
     "metadata": {},
     "output_type": "execute_result"
    }
   ],
   "source": [
    "# tamanho do dataset\n",
    "df.shape"
   ]
  },
  {
   "cell_type": "code",
   "execution_count": 144,
   "metadata": {},
   "outputs": [
    {
     "data": {
      "text/html": [
       "<div>\n",
       "<style scoped>\n",
       "    .dataframe tbody tr th:only-of-type {\n",
       "        vertical-align: middle;\n",
       "    }\n",
       "\n",
       "    .dataframe tbody tr th {\n",
       "        vertical-align: top;\n",
       "    }\n",
       "\n",
       "    .dataframe thead th {\n",
       "        text-align: right;\n",
       "    }\n",
       "</style>\n",
       "<table border=\"1\" class=\"dataframe\">\n",
       "  <thead>\n",
       "    <tr style=\"text-align: right;\">\n",
       "      <th></th>\n",
       "      <th>text</th>\n",
       "      <th>sentiment</th>\n",
       "    </tr>\n",
       "  </thead>\n",
       "  <tbody>\n",
       "    <tr>\n",
       "      <th>0</th>\n",
       "      <td>I`d have responded, if I were going</td>\n",
       "      <td>neutral</td>\n",
       "    </tr>\n",
       "    <tr>\n",
       "      <th>1</th>\n",
       "      <td>Sooo SAD I will miss you here in San Diego!!!</td>\n",
       "      <td>negative</td>\n",
       "    </tr>\n",
       "    <tr>\n",
       "      <th>2</th>\n",
       "      <td>my boss is bullying me...</td>\n",
       "      <td>negative</td>\n",
       "    </tr>\n",
       "    <tr>\n",
       "      <th>3</th>\n",
       "      <td>what interview! leave me alone</td>\n",
       "      <td>negative</td>\n",
       "    </tr>\n",
       "    <tr>\n",
       "      <th>4</th>\n",
       "      <td>Sons of ****, why couldn`t they put them on t...</td>\n",
       "      <td>negative</td>\n",
       "    </tr>\n",
       "    <tr>\n",
       "      <th>...</th>\n",
       "      <td>...</td>\n",
       "      <td>...</td>\n",
       "    </tr>\n",
       "    <tr>\n",
       "      <th>27476</th>\n",
       "      <td>wish we could come see u on Denver  husband l...</td>\n",
       "      <td>negative</td>\n",
       "    </tr>\n",
       "    <tr>\n",
       "      <th>27477</th>\n",
       "      <td>I`ve wondered about rake to.  The client has ...</td>\n",
       "      <td>negative</td>\n",
       "    </tr>\n",
       "    <tr>\n",
       "      <th>27478</th>\n",
       "      <td>Yay good for both of you. Enjoy the break - y...</td>\n",
       "      <td>positive</td>\n",
       "    </tr>\n",
       "    <tr>\n",
       "      <th>27479</th>\n",
       "      <td>But it was worth it  ****.</td>\n",
       "      <td>positive</td>\n",
       "    </tr>\n",
       "    <tr>\n",
       "      <th>27480</th>\n",
       "      <td>All this flirting going on - The ATG smiles...</td>\n",
       "      <td>neutral</td>\n",
       "    </tr>\n",
       "  </tbody>\n",
       "</table>\n",
       "<p>27481 rows × 2 columns</p>\n",
       "</div>"
      ],
      "text/plain": [
       "                                                    text sentiment\n",
       "0                    I`d have responded, if I were going   neutral\n",
       "1          Sooo SAD I will miss you here in San Diego!!!  negative\n",
       "2                              my boss is bullying me...  negative\n",
       "3                         what interview! leave me alone  negative\n",
       "4       Sons of ****, why couldn`t they put them on t...  negative\n",
       "...                                                  ...       ...\n",
       "27476   wish we could come see u on Denver  husband l...  negative\n",
       "27477   I`ve wondered about rake to.  The client has ...  negative\n",
       "27478   Yay good for both of you. Enjoy the break - y...  positive\n",
       "27479                         But it was worth it  ****.  positive\n",
       "27480     All this flirting going on - The ATG smiles...   neutral\n",
       "\n",
       "[27481 rows x 2 columns]"
      ]
     },
     "execution_count": 144,
     "metadata": {},
     "output_type": "execute_result"
    }
   ],
   "source": [
    "# analisando padrao de texto com classificacao de sentimento \n",
    "df[['text', 'sentiment']]"
   ]
  },
  {
   "cell_type": "markdown",
   "metadata": {},
   "source": [
    "## Tratamento das reviews  \n",
    "\n",
    "\n",
    "Algumas reviews possuem pontuação, letras maiúsculas, quebras de linha. Portanto, vamos limpar o dataset removendo esses caracteres."
   ]
  },
  {
   "cell_type": "code",
   "execution_count": 145,
   "metadata": {},
   "outputs": [
    {
     "data": {
      "text/plain": [
       "'4am. And Im on the beach. Pretty'"
      ]
     },
     "execution_count": 145,
     "metadata": {},
     "output_type": "execute_result"
    }
   ],
   "source": [
    "# exemplo de texto com pontuacoes\n",
    "df['text'][100]"
   ]
  },
  {
   "cell_type": "code",
   "execution_count": 146,
   "metadata": {},
   "outputs": [
    {
     "name": "stdout",
     "output_type": "stream",
     "text": [
      "<class 'pandas.core.frame.DataFrame'>\n",
      "RangeIndex: 27481 entries, 0 to 27480\n",
      "Data columns (total 4 columns):\n",
      " #   Column         Non-Null Count  Dtype \n",
      "---  ------         --------------  ----- \n",
      " 0   textID         27481 non-null  object\n",
      " 1   text           27480 non-null  object\n",
      " 2   selected_text  27480 non-null  object\n",
      " 3   sentiment      27481 non-null  object\n",
      "dtypes: object(4)\n",
      "memory usage: 858.9+ KB\n"
     ]
    }
   ],
   "source": [
    "# infos do dataset para confirmar tipo de cada dado \n",
    "df.info()"
   ]
  },
  {
   "cell_type": "code",
   "execution_count": 147,
   "metadata": {},
   "outputs": [],
   "source": [
    "# funcao para remover pontuacoes\n",
    "def clean_tweets(tweet): # def recebe uma tweet  do tipo object (string em pandas)\n",
    "    ponc = re.findall(r'[^!.,?\\s]+', str(tweet)) # usando re para remover pontuações das tweets\n",
    "    \n",
    "    return \" \".join(ponc).lower() # retornando sem pontuação e transformando em caixa baixa \n"
   ]
  },
  {
   "cell_type": "code",
   "execution_count": 148,
   "metadata": {},
   "outputs": [],
   "source": [
    "df['cleaned-tweets'] = df['text'].apply(lambda x: clean_tweets(x)) # criando uma nova coluna do dataset com os tweets limpos \n",
    "df['cleaned-tweets'] = df['cleaned-tweets'].apply(lambda y: y.replace('<br />', '\\n')) # substituindo quebras de linhas "
   ]
  },
  {
   "cell_type": "code",
   "execution_count": 149,
   "metadata": {},
   "outputs": [
    {
     "data": {
      "text/plain": [
       "0                    i`d have responded if i were going\n",
       "1            sooo sad i will miss you here in san diego\n",
       "2                                my boss is bullying me\n",
       "3                         what interview leave me alone\n",
       "4     sons of **** why couldn`t they put them on the...\n",
       "5     http://www dothebouncy com/smf - some shameles...\n",
       "6     2am feedings for the baby are fun when he is a...\n",
       "7                                            soooo high\n",
       "8                                           both of you\n",
       "9     journey wow u just became cooler hehe (is that...\n",
       "10    as much as i love to be hopeful i reckon the c...\n",
       "11    i really really like the song love story by ta...\n",
       "12         my sharpie is running dangerously low on ink\n",
       "13    i want to go to music tonight but i lost my voice\n",
       "14                           test test from the lg env2\n",
       "15                                 uh oh i am sunburned\n",
       "16    s`ok trying to plot alternatives as we speak *...\n",
       "17    i`ve been sick for the past few days and thus ...\n",
       "18                is back home now gonna miss every one\n",
       "19                           hes just not that into you\n",
       "Name: cleaned-tweets, dtype: object"
      ]
     },
     "execution_count": 149,
     "metadata": {},
     "output_type": "execute_result"
    }
   ],
   "source": [
    "# verificando os 20 primeiros itens da nova coluna\n",
    "df['cleaned-tweets'].head(20)"
   ]
  },
  {
   "cell_type": "code",
   "execution_count": 150,
   "metadata": {},
   "outputs": [
    {
     "name": "stdout",
     "output_type": "stream",
     "text": [
      "4am and im on the beach pretty\n"
     ]
    }
   ],
   "source": [
    "# verificando o texto teste novamente\n",
    "print(df['cleaned-tweets'].loc[100])"
   ]
  },
  {
   "cell_type": "markdown",
   "metadata": {},
   "source": [
    "## Removing stop words  "
   ]
  },
  {
   "cell_type": "code",
   "execution_count": 151,
   "metadata": {},
   "outputs": [
    {
     "data": {
      "text/plain": [
       "0                                  i`d responded going\n",
       "1                              sooo sad miss san diego\n",
       "2                                        boss bullying\n",
       "3                                interview leave alone\n",
       "4       sons **** couldn`t put releases already bought\n",
       "5    http://www dothebouncy com/smf - shameless plu...\n",
       "Name: tweets-all-cleaned, dtype: object"
      ]
     },
     "execution_count": 151,
     "metadata": {},
     "output_type": "execute_result"
    }
   ],
   "source": [
    "stop = stopwords.words('english')\n",
    "# criando nova coluna no dataser que contem todos os tweets totalmente limpos \n",
    "df['tweets-all-cleaned'] = df['cleaned-tweets'].apply(lambda x: ' '.join([word for word in x.split() if word not in (stop)])) # usando apply para passar por cada linha \n",
    "df['tweets-all-cleaned'].head(6) # verificando as 6 primeiras linhas da nova coluna"
   ]
  },
  {
   "cell_type": "markdown",
   "metadata": {},
   "source": [
    "## TFIDF"
   ]
  },
  {
   "cell_type": "code",
   "execution_count": 152,
   "metadata": {},
   "outputs": [],
   "source": [
    "# separando em conjunto de treino e teste \n",
    "from sklearn.model_selection import train_test_split\n",
    "X=df['tweets-all-cleaned'] # texto \n",
    "y=df['sentiment'] # label \n",
    "\n",
    "X_train, X_test, y_train, y_test = train_test_split(X,y,test_size=0.3, random_state=42) # tamanho de base de teste = 0.3 da base atual "
   ]
  },
  {
   "cell_type": "markdown",
   "metadata": {},
   "source": [
    "### Construindo pipelines para poder vectorizar a base de dados e treinar"
   ]
  },
  {
   "cell_type": "code",
   "execution_count": 153,
   "metadata": {},
   "outputs": [],
   "source": [
    "from sklearn.pipeline import Pipeline # ajuda na automatização de processos \n",
    "from sklearn.feature_extraction.text import TfidfVectorizer # para converter o doc em uma matriz de features de tfidf \n",
    "from sklearn.naive_bayes import MultinomialNB # classificador para contagem de palavras para classificacao de texto, por exemplo \n",
    "from sklearn.svm import LinearSVC # criação do modelo "
   ]
  },
  {
   "cell_type": "code",
   "execution_count": 154,
   "metadata": {},
   "outputs": [],
   "source": [
    "# pipeline de naive bayes , conjunto de etapas \n",
    "text_clf_nb = Pipeline([('tfidf', TfidfVectorizer()), # pipeline permite a inserção de varios transformers para pre processar os dados \n",
    "                        ('clf', MultinomialNB()), # no caso estamos primeiro convertendo em uma matriz de features e depois chamando o classificador \n",
    "])\n",
    "\n",
    "#modelo linear svc\n",
    "text_clf_lsvc = Pipeline([('tfidf', TfidfVectorizer()), # vectorizando \n",
    "                          ('clf', LinearSVC())]) # chamando o modelo "
   ]
  },
  {
   "cell_type": "markdown",
   "metadata": {},
   "source": [
    "### Testando com Naive Bayes"
   ]
  },
  {
   "cell_type": "code",
   "execution_count": 155,
   "metadata": {},
   "outputs": [],
   "source": [
    "# usando model.fit para carregar o model\n",
    "\n",
    "model_nb = text_clf_nb.fit(X_train, y_train)"
   ]
  },
  {
   "cell_type": "code",
   "execution_count": 156,
   "metadata": {},
   "outputs": [],
   "source": [
    "# testando previsoes \n",
    "predict_nb = text_clf_nb.predict(X_test)"
   ]
  },
  {
   "cell_type": "code",
   "execution_count": 157,
   "metadata": {},
   "outputs": [
    {
     "data": {
      "text/plain": [
       "<Axes: >"
      ]
     },
     "execution_count": 157,
     "metadata": {},
     "output_type": "execute_result"
    },
    {
     "data": {
      "image/png": "[encoded data removed]",
      "text/plain": [
       "<Figure size 640x480 with 2 Axes>"
      ]
     },
     "metadata": {},
     "output_type": "display_data"
    }
   ],
   "source": [
    "# importando confusion matrix para poder avaliar \n",
    "from sklearn.metrics import confusion_matrix\n",
    "cf_nb = confusion_matrix(y_test, predict_nb)\n",
    "sns.heatmap(cf_nb, annot=True, fmt='d')"
   ]
  },
  {
   "cell_type": "code",
   "execution_count": 158,
   "metadata": {},
   "outputs": [
    {
     "name": "stdout",
     "output_type": "stream",
     "text": [
      "              precision    recall  f1-score   support\n",
      "\n",
      "    negative       0.78      0.40      0.53      2338\n",
      "     neutral       0.55      0.81      0.65      3371\n",
      "    positive       0.74      0.59      0.65      2536\n",
      "\n",
      "    accuracy                           0.63      8245\n",
      "   macro avg       0.69      0.60      0.61      8245\n",
      "weighted avg       0.67      0.63      0.62      8245\n",
      "\n"
     ]
    }
   ],
   "source": [
    "# classification report \n",
    "from sklearn import metrics\n",
    "print(metrics.classification_report(y_test, predict_nb))"
   ]
  },
  {
   "cell_type": "markdown",
   "metadata": {},
   "source": [
    "Acurácia de 63%.  \n",
    "Podemos observar que a precisão é menos para classificar tweets neutros - cerca de 55%"
   ]
  },
  {
   "cell_type": "markdown",
   "metadata": {},
   "source": [
    "### Testando com o Linear SVM"
   ]
  },
  {
   "cell_type": "code",
   "execution_count": 159,
   "metadata": {},
   "outputs": [],
   "source": [
    "# usando o model.fit para carregar o modelo\n",
    "model_lsvc = text_clf_lsvc.fit(X_train, y_train)"
   ]
  },
  {
   "cell_type": "code",
   "execution_count": 160,
   "metadata": {},
   "outputs": [],
   "source": [
    "# fazendo as previsoes \n",
    "predict_lsvc = text_clf_lsvc.predict(X_test)"
   ]
  },
  {
   "cell_type": "code",
   "execution_count": 161,
   "metadata": {},
   "outputs": [
    {
     "data": {
      "text/plain": [
       "<Axes: >"
      ]
     },
     "execution_count": 161,
     "metadata": {},
     "output_type": "execute_result"
    },
    {
     "data": {
      "image/png": "[encoded data removed]",
      "text/plain": [
       "<Figure size 640x480 with 2 Axes>"
      ]
     },
     "metadata": {},
     "output_type": "display_data"
    }
   ],
   "source": [
    "# confusion matrix \n",
    "cf_lsvc = confusion_matrix(y_test, predict_lsvc)\n",
    "sns.heatmap(cf_nb, annot=True, fmt='d')\n"
   ]
  },
  {
   "cell_type": "code",
   "execution_count": 162,
   "metadata": {},
   "outputs": [
    {
     "name": "stdout",
     "output_type": "stream",
     "text": [
      "              precision    recall  f1-score   support\n",
      "\n",
      "    negative       0.67      0.62      0.65      2338\n",
      "     neutral       0.63      0.65      0.64      3371\n",
      "    positive       0.71      0.73      0.72      2536\n",
      "\n",
      "    accuracy                           0.67      8245\n",
      "   macro avg       0.67      0.67      0.67      8245\n",
      "weighted avg       0.67      0.67      0.67      8245\n",
      "\n"
     ]
    }
   ],
   "source": [
    "# classification report \n",
    "print(metrics.classification_report(y_test, predict_lsvc))"
   ]
  },
  {
   "cell_type": "markdown",
   "metadata": {},
   "source": [
    "Acurácia de 67%.  \n",
    "Podemos observar que, assim como no Naive Bayes, a precisão para identificar tweets neutros continua menor do que as outras categorias. Cerca de 63%"
   ]
  },
  {
   "cell_type": "markdown",
   "metadata": {},
   "source": [
    "## Transformers "
   ]
  },
  {
   "cell_type": "code",
   "execution_count": 163,
   "metadata": {},
   "outputs": [],
   "source": [
    "from transformers import AutoTokenizer # transforma letras em numeros para que o computador possa entender \n",
    "from transformers import AutoModelForSequenceClassification # usado para carregar o modelo \n",
    "from scipy.special import softmax "
   ]
  },
  {
   "cell_type": "code",
   "execution_count": 164,
   "metadata": {},
   "outputs": [
    {
     "name": "stderr",
     "output_type": "stream",
     "text": [
      "/opt/anaconda3/envs/nlp_course/lib/python3.12/site-packages/transformers/tokenization_utils_base.py:1601: FutureWarning: `clean_up_tokenization_spaces` was not set. It will be set to `True` by default. This behavior will be depracted in transformers v4.45, and will be then set to `False` by default. For more details check this issue: https://github.com/huggingface/transformers/issues/31884\n",
      "  warnings.warn(\n",
      "Some weights of the model checkpoint at cardiffnlp/twitter-roberta-base-sentiment-latest were not used when initializing RobertaForSequenceClassification: ['roberta.pooler.dense.bias', 'roberta.pooler.dense.weight']\n",
      "- This IS expected if you are initializing RobertaForSequenceClassification from the checkpoint of a model trained on another task or with another architecture (e.g. initializing a BertForSequenceClassification model from a BertForPreTraining model).\n",
      "- This IS NOT expected if you are initializing RobertaForSequenceClassification from the checkpoint of a model that you expect to be exactly identical (initializing a BertForSequenceClassification model from a BertForSequenceClassification model).\n"
     ]
    }
   ],
   "source": [
    "# carregando o modelo roBERTa\n",
    "\n",
    "# Load model directly\n",
    "from transformers import AutoTokenizer, AutoModelForSequenceClassification\n",
    "\n",
    "tokenizer = AutoTokenizer.from_pretrained(\"cardiffnlp/twitter-roberta-base-sentiment-latest\")\n",
    "model = AutoModelForSequenceClassification.from_pretrained(\"cardiffnlp/twitter-roberta-base-sentiment-latest\")"
   ]
  },
  {
   "cell_type": "code",
   "execution_count": 165,
   "metadata": {},
   "outputs": [],
   "source": [
    "# realizando a tokenizacao dos tweets com truncation=true e tamanho de 256 para garantir que todos tenham o mesmo tamanho \n",
    "df['tokenized-tweets'] = df['tweets-all-cleaned'].apply(lambda x: tokenizer(x, return_tensors='pt', truncation=True, max_length=256))"
   ]
  },
  {
   "cell_type": "code",
   "execution_count": 166,
   "metadata": {},
   "outputs": [
    {
     "name": "stdout",
     "output_type": "stream",
     "text": [
      "<class 'pandas.core.series.Series'>\n",
      "RangeIndex: 27481 entries, 0 to 27480\n",
      "Series name: tokenized-tweets\n",
      "Non-Null Count  Dtype \n",
      "--------------  ----- \n",
      "27481 non-null  object\n",
      "dtypes: object(1)\n",
      "memory usage: 214.8+ KB\n"
     ]
    }
   ],
   "source": [
    "# infos da nova coluna \n",
    "df['tokenized-tweets'].info()"
   ]
  },
  {
   "cell_type": "code",
   "execution_count": 167,
   "metadata": {},
   "outputs": [],
   "source": [
    "# # dividindo em treino e teste \n",
    "X_t = df['tokenized-tweets'] \n",
    "y_t = df['sentiment']\n",
    "\n",
    "X_train, X_test, y_train, y_test = train_test_split(X_t, y_t, train_size = 0.3, random_state = 42)"
   ]
  },
  {
   "cell_type": "code",
   "execution_count": 168,
   "metadata": {},
   "outputs": [],
   "source": [
    "# print(transformers.__version__)"
   ]
  },
  {
   "cell_type": "code",
   "execution_count": 169,
   "metadata": {},
   "outputs": [
    {
     "data": {
      "text/plain": [
       "{'input_ids': tensor([[    0,   118, 12905,   119,   202,  3392, 17587,    36,    35, 23184,\n",
       "           895, 11695,   939, 12905,   119,  2494,   741,  3961,  2596,    35,\n",
       "           638,   334,   452,   205,   183,     2]]), 'attention_mask': tensor([[1, 1, 1, 1, 1, 1, 1, 1, 1, 1, 1, 1, 1, 1, 1, 1, 1, 1, 1, 1, 1, 1, 1, 1,\n",
       "         1, 1]])}"
      ]
     },
     "execution_count": 169,
     "metadata": {},
     "output_type": "execute_result"
    }
   ],
   "source": [
    "X_train[10955]"
   ]
  },
  {
   "cell_type": "code",
   "execution_count": 170,
   "metadata": {},
   "outputs": [],
   "source": [
    "# rodando no roBERTa -> criando funcao para depois aplicar em todas as linhas do dataframe \n",
    "# primeiro vamos fazer o encoding do texto \n",
    "from operator import itemgetter # poder pegar a label (pos, neu, neg)\n",
    "def run_roberta(text): # recebe o texto já tokenizado \n",
    "    output = model(**text) # retorna tensores\n",
    "    scores = output[0][0].detach().numpy() #usa detach para transformar \n",
    "    scores = softmax(scores) # lista c probabilidades\n",
    "\n",
    "    scores_dict = {\n",
    "         'negative': scores[0],\n",
    "         'neutral': scores[1],\n",
    "         'positive': scores[2]\n",
    "     }\n",
    "    \n",
    "    result = max(scores_dict.items(), key=itemgetter(1)) # pegando maior valor da probabilidade \n",
    "    return result[0] # retornando somente a classificacao \n",
    "    \n",
    "\n"
   ]
  },
  {
   "cell_type": "code",
   "execution_count": 171,
   "metadata": {},
   "outputs": [
    {
     "data": {
      "text/plain": [
       "'positive'"
      ]
     },
     "execution_count": 171,
     "metadata": {},
     "output_type": "execute_result"
    }
   ],
   "source": [
    "# testando com um dos tweets do conjunto de treino \n",
    "run_roberta(df['tokenized-tweets'][10955])"
   ]
  },
  {
   "cell_type": "code",
   "execution_count": 172,
   "metadata": {},
   "outputs": [
    {
     "data": {
      "text/plain": [
       "textID                                                       a77df4a95a\n",
       "text                  I`m still up! Thank you all for praying (: AHA...\n",
       "selected_text         I`m still up! Thank you all for praying (: AHA...\n",
       "sentiment                                                      positive\n",
       "cleaned-tweets        i`m still up thank you all for praying (: ahah...\n",
       "tweets-all-cleaned    i`m still thank praying (: ahahaha i`m watchin...\n",
       "tokenized-tweets                            [input_ids, attention_mask]\n",
       "Name: 10955, dtype: object"
      ]
     },
     "execution_count": 172,
     "metadata": {},
     "output_type": "execute_result"
    }
   ],
   "source": [
    "# printando a mesma linha para verificar se preveu corretamente\n",
    "df.iloc[10955]"
   ]
  },
  {
   "cell_type": "code",
   "execution_count": 173,
   "metadata": {},
   "outputs": [
    {
     "name": "stderr",
     "output_type": "stream",
     "text": [
      "100%|██████████| 8244/8244 [07:14<00:00, 18.99it/s]\n"
     ]
    }
   ],
   "source": [
    "# treinando com o conjunto de testes \n",
    "\n",
    "df['roberta-scores-train'] = X_train.progress_apply(lambda x: run_roberta(x))"
   ]
  },
  {
   "cell_type": "code",
   "execution_count": 174,
   "metadata": {},
   "outputs": [
    {
     "data": {
      "text/plain": [
       "0         NaN\n",
       "1    negative\n",
       "2         NaN\n",
       "3         NaN\n",
       "4         NaN\n",
       "Name: roberta-scores-train, dtype: object"
      ]
     },
     "execution_count": 174,
     "metadata": {},
     "output_type": "execute_result"
    }
   ],
   "source": [
    "# verificando a head das previsoes \n",
    "df['roberta-scores-train'].head()"
   ]
  },
  {
   "cell_type": "markdown",
   "metadata": {},
   "source": [
    "Verificando se os tamanhos do conjunto de previsões era o mesmo do conjunto de treino "
   ]
  },
  {
   "cell_type": "code",
   "execution_count": 175,
   "metadata": {},
   "outputs": [
    {
     "data": {
      "text/plain": [
       "(27481,)"
      ]
     },
     "execution_count": 175,
     "metadata": {},
     "output_type": "execute_result"
    }
   ],
   "source": [
    "df['tokenized-tweets'].shape"
   ]
  },
  {
   "cell_type": "code",
   "execution_count": 176,
   "metadata": {},
   "outputs": [
    {
     "data": {
      "text/plain": [
       "(8244,)"
      ]
     },
     "execution_count": 176,
     "metadata": {},
     "output_type": "execute_result"
    }
   ],
   "source": [
    "X_train.shape"
   ]
  },
  {
   "cell_type": "code",
   "execution_count": 177,
   "metadata": {},
   "outputs": [
    {
     "data": {
      "text/plain": [
       "19237"
      ]
     },
     "execution_count": 177,
     "metadata": {},
     "output_type": "execute_result"
    }
   ],
   "source": [
    "# verificando se tem valores nulos na nova coluna \n",
    "df['roberta-scores-train'].isnull().sum() "
   ]
  },
  {
   "cell_type": "code",
   "execution_count": 178,
   "metadata": {},
   "outputs": [],
   "source": [
    "# para medir acurácia de treino, vamos pegar somente os nao nan \n",
    "df = df[df['roberta-scores-train'].notna()]"
   ]
  },
  {
   "cell_type": "code",
   "execution_count": 179,
   "metadata": {},
   "outputs": [
    {
     "data": {
      "text/plain": [
       "count        8244\n",
       "unique          3\n",
       "top       neutral\n",
       "freq         3304\n",
       "Name: sentiment, dtype: object"
      ]
     },
     "execution_count": 179,
     "metadata": {},
     "output_type": "execute_result"
    }
   ],
   "source": [
    "y_train.describe()"
   ]
  },
  {
   "cell_type": "code",
   "execution_count": 180,
   "metadata": {},
   "outputs": [
    {
     "data": {
      "text/plain": [
       "count        8244\n",
       "unique          3\n",
       "top       neutral\n",
       "freq         3146\n",
       "Name: roberta-scores-train, dtype: object"
      ]
     },
     "execution_count": 180,
     "metadata": {},
     "output_type": "execute_result"
    }
   ],
   "source": [
    "df['roberta-scores-train'].describe()"
   ]
  },
  {
   "cell_type": "code",
   "execution_count": 181,
   "metadata": {},
   "outputs": [
    {
     "data": {
      "text/plain": [
       "<Axes: >"
      ]
     },
     "execution_count": 181,
     "metadata": {},
     "output_type": "execute_result"
    },
    {
     "data": {
      "image/png": "[encoded data removed]",
      "text/plain": [
       "<Figure size 640x480 with 2 Axes>"
      ]
     },
     "metadata": {},
     "output_type": "display_data"
    }
   ],
   "source": [
    "# criando matriz de confusao para visualizacao \n",
    "cf_roberta = confusion_matrix(y_train,df['roberta-scores-train'] )\n",
    "sns.heatmap(cf_roberta, annot=True, fmt='d')"
   ]
  },
  {
   "cell_type": "markdown",
   "metadata": {},
   "source": [
    "Observando a matriz, percebemos que ele as previsões de tweets negativos são piores. Enquanto na previsão de tweets neutros o modelo se saiu melhor."
   ]
  },
  {
   "cell_type": "code",
   "execution_count": 182,
   "metadata": {},
   "outputs": [
    {
     "name": "stdout",
     "output_type": "stream",
     "text": [
      "              precision    recall  f1-score   support\n",
      "\n",
      "    negative       0.27      0.26      0.27      2273\n",
      "     neutral       0.40      0.38      0.39      3304\n",
      "    positive       0.33      0.35      0.34      2667\n",
      "\n",
      "    accuracy                           0.34      8244\n",
      "   macro avg       0.33      0.33      0.33      8244\n",
      "weighted avg       0.34      0.34      0.34      8244\n",
      "\n"
     ]
    }
   ],
   "source": [
    "# calculando acuracia do roberta \n",
    "print(metrics.classification_report(y_train, df['roberta-scores-train']))"
   ]
  },
  {
   "cell_type": "markdown",
   "metadata": {},
   "source": [
    "Como já observado na matriz, a precisão de tweets negativos é muito baixa. Ao contrário do linear svc, o modelo foi capaz de prever melhor os tweets neutros, no conunto de treino.  \n",
    "Em contra-partida, sua acurácia é baixa, o que é normal para uma base de treino."
   ]
  },
  {
   "cell_type": "code",
   "execution_count": 183,
   "metadata": {},
   "outputs": [
    {
     "data": {
      "text/plain": [
       "(19237,)"
      ]
     },
     "execution_count": 183,
     "metadata": {},
     "output_type": "execute_result"
    }
   ],
   "source": [
    "X_test.shape"
   ]
  },
  {
   "cell_type": "code",
   "execution_count": 196,
   "metadata": {},
   "outputs": [
    {
     "name": "stderr",
     "output_type": "stream",
     "text": [
      "100%|██████████| 19237/19237 [16:01<00:00, 20.01it/s]\n"
     ]
    }
   ],
   "source": [
    "# testando com base de teste \n",
    "\n",
    "from tqdm import tqdm \n",
    "tqdm.pandas()\n",
    "df['roberta-scores-test'] = X_test.progress_apply(lambda x: run_roberta(x))"
   ]
  },
  {
   "cell_type": "code",
   "execution_count": 197,
   "metadata": {},
   "outputs": [
    {
     "data": {
      "text/plain": [
       "1588     positive\n",
       "23879     neutral\n",
       "6561      neutral\n",
       "2602     negative\n",
       "4003     positive\n",
       "Name: roberta-scores-test, dtype: object"
      ]
     },
     "execution_count": 197,
     "metadata": {},
     "output_type": "execute_result"
    }
   ],
   "source": [
    "df['roberta-scores-test'].head()"
   ]
  },
  {
   "cell_type": "markdown",
   "metadata": {},
   "source": [
    "Verificando tamanho do novo conjunto "
   ]
  },
  {
   "cell_type": "code",
   "execution_count": 198,
   "metadata": {},
   "outputs": [
    {
     "data": {
      "text/plain": [
       "(19237,)"
      ]
     },
     "execution_count": 198,
     "metadata": {},
     "output_type": "execute_result"
    }
   ],
   "source": [
    "df['roberta-scores-test'].shape"
   ]
  },
  {
   "cell_type": "code",
   "execution_count": 200,
   "metadata": {},
   "outputs": [
    {
     "data": {
      "text/plain": [
       "0"
      ]
     },
     "execution_count": 200,
     "metadata": {},
     "output_type": "execute_result"
    }
   ],
   "source": [
    "df['roberta-scores-test'].isnull().sum() "
   ]
  },
  {
   "cell_type": "code",
   "execution_count": 199,
   "metadata": {},
   "outputs": [],
   "source": [
    "df = df[df['roberta-scores-test'].notna()]"
   ]
  },
  {
   "cell_type": "code",
   "execution_count": 201,
   "metadata": {},
   "outputs": [
    {
     "data": {
      "text/plain": [
       "<Axes: >"
      ]
     },
     "execution_count": 201,
     "metadata": {},
     "output_type": "execute_result"
    },
    {
     "data": {
      "image/png": "[encoded data removed]",
      "text/plain": [
       "<Figure size 640x480 with 2 Axes>"
      ]
     },
     "metadata": {},
     "output_type": "display_data"
    }
   ],
   "source": [
    "cf_roberta_test = confusion_matrix(y_test,df['roberta-scores-test'] )\n",
    "sns.heatmap(cf_roberta_test, annot=True, fmt='d')"
   ]
  },
  {
   "cell_type": "markdown",
   "metadata": {},
   "source": [
    "Observando a matriz, é possível concluir que o modelo roBERTa se saiu bem melhor que o Naive Bayes e o LinearSVC, com a diagonal principal - previsões feitas corretamente - possuem valores mais altos."
   ]
  },
  {
   "cell_type": "code",
   "execution_count": 202,
   "metadata": {},
   "outputs": [
    {
     "name": "stdout",
     "output_type": "stream",
     "text": [
      "              precision    recall  f1-score   support\n",
      "\n",
      "    negative       0.72      0.69      0.70      5508\n",
      "     neutral       0.68      0.66      0.67      7814\n",
      "    positive       0.73      0.78      0.75      5915\n",
      "\n",
      "    accuracy                           0.71     19237\n",
      "   macro avg       0.71      0.71      0.71     19237\n",
      "weighted avg       0.71      0.71      0.71     19237\n",
      "\n"
     ]
    }
   ],
   "source": [
    "print(metrics.classification_report(y_test, df['roberta-scores-test']))"
   ]
  },
  {
   "cell_type": "markdown",
   "metadata": {},
   "source": [
    "Ainda assim, a previsão de tweets neutros ainda tem a menor das precisões - 68%.  \n",
    "Com acurácia de 71%, o modelo se saiu bem melhor que todos os outros. \n"
   ]
  }
 ],
 "metadata": {
  "kernelspec": {
   "display_name": "nlp_course",
   "language": "python",
   "name": "python3"
  },
  "language_info": {
   "codemirror_mode": {
    "name": "ipython",
    "version": 3
   },
   "file_extension": ".py",
   "mimetype": "text/x-python",
   "name": "python",
   "nbconvert_exporter": "python",
   "pygments_lexer": "ipython3",
   "version": "3.12.3"
  }
 },
 "nbformat": 4,
 "nbformat_minor": 2
}
